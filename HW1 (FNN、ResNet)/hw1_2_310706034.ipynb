{
 "cells": [
  {
   "cell_type": "code",
   "execution_count": 1,
   "metadata": {
    "id": "FQdvKH91keVD"
   },
   "outputs": [],
   "source": [
    "import glob, os\n",
    "import numpy as np\n",
    "import matplotlib.pyplot as plt\n",
    "import torch\n",
    "import torch.utils.data as Data\n",
    "from torchvision import transforms\n",
    "from torch.nn import functional as F\n",
    "from torch import nn\n",
    "from PIL import Image"
   ]
  },
  {
   "cell_type": "code",
   "execution_count": 2,
   "metadata": {
    "colab": {
     "base_uri": "https://localhost:8080/",
     "height": 35
    },
    "id": "MLr-7E9_keVL",
    "outputId": "f076a2a1-2890-4be0-cec2-a130bf22b881"
   },
   "outputs": [
    {
     "data": {
      "application/vnd.google.colaboratory.intrinsic+json": {
       "type": "string"
      },
      "text/plain": [
       "'cuda'"
      ]
     },
     "execution_count": 2,
     "metadata": {},
     "output_type": "execute_result"
    }
   ],
   "source": [
    "#cuda\n",
    "device = 'cuda' if torch.cuda.is_available() else 'cpu'\n",
    "device"
   ]
  },
  {
   "cell_type": "code",
   "execution_count": 3,
   "metadata": {
    "id": "J9ojklXzoecU"
   },
   "outputs": [],
   "source": [
    "# Colab解壓縮檔案\n",
    "# ! unzip \"/content/stanford_dogs_dataset.zip\""
   ]
  },
  {
   "cell_type": "markdown",
   "metadata": {
    "id": "S5Zn3P29keVN"
   },
   "source": [
    "# Data Preprocessing\n",
    "### 讀檔"
   ]
  },
  {
   "cell_type": "code",
   "execution_count": 4,
   "metadata": {
    "colab": {
     "base_uri": "https://localhost:8080/"
    },
    "id": "I1-FdoD4keVP",
    "outputId": "a2ce2e53-b736-42c2-89ad-8f068dfa29b5"
   },
   "outputs": [
    {
     "name": "stdout",
     "output_type": "stream",
     "text": [
      "['/content/stanford_dogs_dataset/train/Afghan_hound', '/content/stanford_dogs_dataset/train/Scottish_deerhound', '/content/stanford_dogs_dataset/train/Leonberg', '/content/stanford_dogs_dataset/train/Irish_wolfhound', '/content/stanford_dogs_dataset/train/Tibetan_terrier', '/content/stanford_dogs_dataset/train/Airedale', '/content/stanford_dogs_dataset/train/basenji', '/content/stanford_dogs_dataset/train/Bernese_mountain_dog']\n",
      "['/content/stanford_dogs_dataset/test/Afghan_hound', '/content/stanford_dogs_dataset/test/Scottish_deerhound', '/content/stanford_dogs_dataset/test/Leonberg', '/content/stanford_dogs_dataset/test/Irish_wolfhound', '/content/stanford_dogs_dataset/test/Tibetan_terrier', '/content/stanford_dogs_dataset/test/Airedale', '/content/stanford_dogs_dataset/test/basenji', '/content/stanford_dogs_dataset/test/Bernese_mountain_dog']\n"
     ]
    }
   ],
   "source": [
    "# 資料夾路徑\n",
    "training_prefix_path = '/content/stanford_dogs_dataset/train/'\n",
    "testing_prefix_path = '/content/stanford_dogs_dataset/test/'\n",
    "\n",
    "training_image_folder_list = glob.glob(training_prefix_path + '*')\n",
    "testing_image_folder_list = glob.glob(testing_prefix_path + '*')\n",
    "print(training_image_folder_list)\n",
    "print(testing_image_folder_list)"
   ]
  },
  {
   "cell_type": "code",
   "execution_count": 5,
   "metadata": {
    "colab": {
     "base_uri": "https://localhost:8080/"
    },
    "id": "jtdIIqvbkeVR",
    "outputId": "8db24350-a1c4-4d73-d24a-1247d84ec5f5"
   },
   "outputs": [
    {
     "name": "stdout",
     "output_type": "stream",
     "text": [
      "['Afghan_hound', 'Scottish_deerhound', 'Leonberg', 'Irish_wolfhound', 'Tibetan_terrier', 'Airedale', 'basenji', 'Bernese_mountain_dog']\n"
     ]
    }
   ],
   "source": [
    "# 狗狗類別檔名\n",
    "label_name_list = [_.split('/')[-1] for _ in training_image_folder_list]\n",
    "print(label_name_list)"
   ]
  },
  {
   "cell_type": "markdown",
   "metadata": {
    "id": "pbmcno68qPsA"
   },
   "source": [
    "### 圖片轉數值資料、轉換資料格式"
   ]
  },
  {
   "cell_type": "code",
   "execution_count": 6,
   "metadata": {
    "id": "5dRftSBAkeVS"
   },
   "outputs": [],
   "source": [
    "# transform 圖片 function\n",
    "preprocess = transforms.Compose([\n",
    "             transforms.Resize((256, 256)),\n",
    "             transforms.ToTensor(), # transform to (0, 1)\n",
    "             transforms.Normalize(mean = (0.5, 0.5, 0.5), std = (0.5, 0.5, 0.5)), # transform to (-1, 1)\n",
    "             ])"
   ]
  },
  {
   "cell_type": "code",
   "execution_count": 7,
   "metadata": {
    "colab": {
     "base_uri": "https://localhost:8080/"
    },
    "id": "yj3p4BhqkeVV",
    "outputId": "93befcca-3f96-4e15-ca7a-dcdaa0b08a1e"
   },
   "outputs": [
    {
     "name": "stdout",
     "output_type": "stream",
     "text": [
      "(1328, 3, 256, 256) (1328,)\n"
     ]
    }
   ],
   "source": [
    "# load training dataset\n",
    "if not (os.path.isfile('./images_train_X.npy') and os.path.isfile('./images_train_y.npy')): \n",
    "    images = []\n",
    "    labels = []\n",
    "    label_count = 0\n",
    "\n",
    "    for training_image_floder in training_image_folder_list:\n",
    "        print('load images from: ', training_image_floder )\n",
    "        imgs_path_list = glob.glob(training_image_floder + '/*')\n",
    "\n",
    "        for idx, img_path in enumerate(imgs_path_list):\n",
    "            img = preprocess(Image.open(img_path).convert('RGB'))\n",
    "            img = img.numpy()\n",
    "\n",
    "            images.append(img)\n",
    "\n",
    "        labels.extend([label_count] * len(imgs_path_list))\n",
    "        label_count += 1\n",
    "\n",
    "    images = np.array(images)\n",
    "    labels = np.array(labels)\n",
    "\n",
    "    np.save('./images_train_X.npy', images)\n",
    "    np.save('./images_train_y.npy', labels)\n",
    "    print(images.shape, labels.shape)\n",
    "else:\n",
    "    images = np.load('./images_train_X.npy')\n",
    "    labels = np.load('./images_train_y.npy')\n",
    "\n",
    "    print(images.shape, labels.shape)\n",
    "    \n",
    "train_X = torch.from_numpy(images)\n",
    "train_y = torch.from_numpy(labels)"
   ]
  },
  {
   "cell_type": "code",
   "execution_count": 8,
   "metadata": {
    "colab": {
     "base_uri": "https://localhost:8080/"
    },
    "id": "SFDdQ0kvkeVX",
    "outputId": "e4ff868e-46c4-4ae4-dd32-55adc3cc536c"
   },
   "outputs": [
    {
     "name": "stdout",
     "output_type": "stream",
     "text": [
      "(288, 3, 256, 256) (288,)\n"
     ]
    }
   ],
   "source": [
    "# load testing dataset\n",
    "if not (os.path.isfile('./images_test_X.npy') and os.path.isfile('./images_test_y.npy')): \n",
    "    images = []\n",
    "    labels = []\n",
    "    label_count = 0\n",
    "\n",
    "    for testing_image_floder in testing_image_folder_list:\n",
    "        print('load images from: ', testing_image_floder )\n",
    "        imgs_path_list = glob.glob(testing_image_floder + '/*')\n",
    "\n",
    "        for idx, img_path in enumerate(imgs_path_list):\n",
    "            img = preprocess(Image.open(img_path).convert('RGB'))\n",
    "            img = img.numpy()\n",
    "\n",
    "            images.append(img)\n",
    "\n",
    "        labels.extend([label_count] * len(imgs_path_list))\n",
    "        label_count += 1\n",
    "\n",
    "    images = np.array(images)\n",
    "    labels = np.array(labels)\n",
    "\n",
    "    np.save('./images_test_X.npy', images)\n",
    "    np.save('./images_test_y.npy', labels)\n",
    "    print(images.shape, labels.shape)\n",
    "else:\n",
    "    images = np.load('./images_test_X.npy')\n",
    "    labels = np.load('./images_test_y.npy')\n",
    "\n",
    "    print(images.shape, labels.shape)\n",
    "    \n",
    "test_X = torch.from_numpy(images)\n",
    "test_y = torch.from_numpy(labels)"
   ]
  },
  {
   "cell_type": "code",
   "execution_count": 9,
   "metadata": {
    "id": "_gEnFsPIkeVZ"
   },
   "outputs": [],
   "source": [
    "# DataLoader\n",
    "train_dataset = Data.TensorDataset(train_X, train_y)\n",
    "test_dataset = Data.TensorDataset(test_X, test_y)\n",
    "\n",
    "train_loader = Data.DataLoader(\n",
    "    dataset = train_dataset,       \n",
    "    batch_size = 128,          \n",
    "    shuffle = True,           \n",
    "    num_workers=2,              \n",
    ")\n",
    "\n",
    "test_loader = Data.DataLoader(\n",
    "    dataset = test_dataset,      \n",
    "    batch_size = 64,      \n",
    "    shuffle = False,\n",
    "    num_workers=2,              \n",
    ")"
   ]
  },
  {
   "cell_type": "markdown",
   "metadata": {
    "id": "dDOCDE2eSuA3"
   },
   "source": [
    "# 2-1"
   ]
  },
  {
   "cell_type": "code",
   "execution_count": 10,
   "metadata": {
    "id": "-_UrzokgkeVd"
   },
   "outputs": [],
   "source": [
    "class CNN_1(nn.Module):\n",
    "    def __init__(self):\n",
    "        super(CNN_1, self).__init__()\n",
    "        self.conv1 = nn.Sequential( # input shape:(1, 256, 256)\n",
    "            nn.Conv2d(in_channels=3, out_channels=32, kernel_size=7, stride=1, padding=3),\n",
    "            nn.ReLU(),\n",
    "            nn.MaxPool2d(kernel_size=2) # output shape: (32, 128, 128)\n",
    "        )\n",
    "        self.conv2 = nn.Sequential(\n",
    "            nn.Conv2d(in_channels=32,  out_channels=64, kernel_size=7, stride=1, padding=3),\n",
    "            nn.ReLU(),\n",
    "            nn.MaxPool2d(kernel_size=2) # output shape: (64, 64, 64)\n",
    "        )\n",
    "        self.out = nn.Linear(in_features=64 * 64 * 64, out_features=8)\n",
    "    def forward(self, x):\n",
    "        x = self.conv1(x)\n",
    "        x = self.conv2(x)\n",
    "        # flatten\n",
    "        x = x.view(x.size()[0], -1) # (batch size, 28*28)\n",
    "        output = self.out(x)\n",
    "        return output"
   ]
  },
  {
   "cell_type": "code",
   "execution_count": 11,
   "metadata": {
    "id": "_GQfMgY6keVe"
   },
   "outputs": [],
   "source": [
    "class module():\n",
    "    def __init__(self, net, train_loader, test_loader, EPOCH=20, LR=0.0001):\n",
    "        self.net = net\n",
    "        self.optimizer = torch.optim.Adam(net.parameters(), lr = LR)\n",
    "        self.criterion = nn.CrossEntropyLoss()\n",
    "        self.train_loader = train_loader\n",
    "        self.test_loader = test_loader\n",
    "        self.EPOCH_ = EPOCH\n",
    "        self.LR_ = LR\n",
    "\n",
    "        self.net = self.net.to(device)\n",
    "        if device == 'cuda':\n",
    "            self.net = torch.nn.DataParallel(self.net)\n",
    "            torch.backends.cudnn.benchmark = True\n",
    "\n",
    "    def start(self):\n",
    "        history_train_loss = []\n",
    "        history_test_loss = []\n",
    "        history_train_acc = []\n",
    "        history_test_acc = []\n",
    "        for epoch in range(self.EPOCH_):\n",
    "            print('Epoch:', epoch+1)\n",
    "            train_loss, train_acc = self.train()\n",
    "            test_loss, test_acc = self.test()\n",
    "\n",
    "            history_train_loss.append(train_loss)\n",
    "            history_test_loss.append(test_loss)\n",
    "            history_train_acc.append(train_acc)\n",
    "            history_test_acc.append(test_acc)\n",
    "        return history_train_loss, history_test_loss, history_train_acc, history_test_acc\n",
    "\n",
    "    def train(self):\n",
    "        self.net.train()\n",
    "        train_loss = 0\n",
    "        correct = 0\n",
    "        total = 0\n",
    "        for step, (batch_X, batch_y) in enumerate(self.train_loader):\n",
    "            batch_X, batch_y = batch_X.to(device), batch_y.to(device)\n",
    "            self.optimizer.zero_grad() # 清空前一次的 gradient\n",
    "            outputs = self.net(batch_X) # 將 data 傳入 model 進行 forward propagation\n",
    "            loss = self.criterion(outputs, batch_y) # 計算 loss\n",
    "            loss.backward() # 根據 loss 進行 back propagation，計算 gradient\n",
    "            self.optimizer.step() # 做 gradient descent\n",
    "            \n",
    "            _, predicted = outputs.max(1)\n",
    "            total += batch_y.size(0)\n",
    "            correct += predicted.eq(batch_y).sum().item()        \n",
    "\n",
    "        train_loss = loss.item()\n",
    "        print('【Training】Loss: %.3f | Acc: %.3f%% (%d/%d)' % ( train_loss, 100.*(correct/total), correct, total ))\n",
    "        return train_loss, (correct/total)\n",
    "\n",
    "    def test(self):\n",
    "        self.net.eval()\n",
    "\n",
    "        test_loss = 0\n",
    "        correct = 0\n",
    "        total = 0\n",
    "        with torch.no_grad(): \n",
    "            for step, (batch_X, batch_y) in enumerate(self.test_loader):\n",
    "                batch_X, batch_y = batch_X.to(device), batch_y.to(device)\n",
    "                outputs = self.net(batch_X)\n",
    "                loss = self.criterion(outputs, batch_y)\n",
    "\n",
    "                _, predicted = outputs.max(1)\n",
    "                total += batch_y.size(0)\n",
    "                correct += predicted.eq(batch_y).sum().item() \n",
    "\n",
    "        test_loss = loss.item()\n",
    "        print('【Testing】Loss: %.3f | Acc: %.3f%% (%d/%d)' % ( test_loss, 100.*(correct/total), correct, total ))\n",
    "        return test_loss, (correct/total)"
   ]
  },
  {
   "cell_type": "code",
   "execution_count": 12,
   "metadata": {
    "colab": {
     "base_uri": "https://localhost:8080/"
    },
    "id": "D0JcWE0ekeVg",
    "outputId": "fa82ab3c-00eb-413d-830b-513fc2005731"
   },
   "outputs": [
    {
     "name": "stdout",
     "output_type": "stream",
     "text": [
      "Epoch: 1\n",
      "【Training】Loss: 2.004 | Acc: 16.717% (222/1328)\n",
      "【Testing】Loss: 2.017 | Acc: 24.653% (71/288)\n",
      "Epoch: 2\n",
      "【Training】Loss: 1.811 | Acc: 35.241% (468/1328)\n",
      "【Testing】Loss: 1.698 | Acc: 28.819% (83/288)\n",
      "Epoch: 3\n",
      "【Training】Loss: 1.487 | Acc: 43.599% (579/1328)\n",
      "【Testing】Loss: 2.089 | Acc: 32.639% (94/288)\n",
      "Epoch: 4\n",
      "【Training】Loss: 1.244 | Acc: 55.120% (732/1328)\n",
      "【Testing】Loss: 1.438 | Acc: 34.375% (99/288)\n",
      "Epoch: 5\n",
      "【Training】Loss: 1.006 | Acc: 62.500% (830/1328)\n",
      "【Testing】Loss: 1.444 | Acc: 36.806% (106/288)\n",
      "Epoch: 6\n",
      "【Training】Loss: 1.008 | Acc: 72.063% (957/1328)\n",
      "【Testing】Loss: 2.728 | Acc: 32.986% (95/288)\n",
      "Epoch: 7\n",
      "【Training】Loss: 0.927 | Acc: 76.130% (1011/1328)\n",
      "【Testing】Loss: 2.813 | Acc: 35.069% (101/288)\n",
      "Epoch: 8\n",
      "【Training】Loss: 0.630 | Acc: 82.530% (1096/1328)\n",
      "【Testing】Loss: 1.963 | Acc: 32.986% (95/288)\n",
      "Epoch: 9\n",
      "【Training】Loss: 0.454 | Acc: 89.006% (1182/1328)\n",
      "【Testing】Loss: 1.509 | Acc: 33.333% (96/288)\n",
      "Epoch: 10\n",
      "【Training】Loss: 0.216 | Acc: 92.169% (1224/1328)\n",
      "【Testing】Loss: 1.444 | Acc: 30.903% (89/288)\n",
      "Epoch: 11\n",
      "【Training】Loss: 0.217 | Acc: 95.783% (1272/1328)\n",
      "【Testing】Loss: 1.651 | Acc: 31.597% (91/288)\n",
      "Epoch: 12\n",
      "【Training】Loss: 0.138 | Acc: 96.009% (1275/1328)\n",
      "【Testing】Loss: 2.096 | Acc: 31.597% (91/288)\n",
      "Epoch: 13\n",
      "【Training】Loss: 0.136 | Acc: 98.946% (1314/1328)\n",
      "【Testing】Loss: 2.536 | Acc: 29.861% (86/288)\n",
      "Epoch: 14\n",
      "【Training】Loss: 0.139 | Acc: 99.548% (1322/1328)\n",
      "【Testing】Loss: 2.346 | Acc: 31.597% (91/288)\n",
      "Epoch: 15\n",
      "【Training】Loss: 0.060 | Acc: 99.849% (1326/1328)\n",
      "【Testing】Loss: 2.367 | Acc: 34.028% (98/288)\n",
      "Epoch: 16\n",
      "【Training】Loss: 0.044 | Acc: 99.925% (1327/1328)\n",
      "【Testing】Loss: 2.488 | Acc: 33.681% (97/288)\n",
      "Epoch: 17\n",
      "【Training】Loss: 0.031 | Acc: 100.000% (1328/1328)\n",
      "【Testing】Loss: 3.003 | Acc: 32.986% (95/288)\n",
      "Epoch: 18\n",
      "【Training】Loss: 0.019 | Acc: 100.000% (1328/1328)\n",
      "【Testing】Loss: 3.158 | Acc: 31.597% (91/288)\n",
      "Epoch: 19\n",
      "【Training】Loss: 0.022 | Acc: 100.000% (1328/1328)\n",
      "【Testing】Loss: 3.322 | Acc: 30.556% (88/288)\n",
      "Epoch: 20\n",
      "【Training】Loss: 0.016 | Acc: 100.000% (1328/1328)\n",
      "【Testing】Loss: 3.915 | Acc: 32.292% (93/288)\n"
     ]
    }
   ],
   "source": [
    "cnn1_module = module(CNN_1(), train_loader, test_loader)\n",
    "history_train_loss, history_test_loss, history_train_acc, history_test_acc = cnn1_module.start()"
   ]
  },
  {
   "cell_type": "code",
   "execution_count": 13,
   "metadata": {
    "colab": {
     "base_uri": "https://localhost:8080/",
     "height": 314
    },
    "id": "oc8qeio9keVh",
    "outputId": "9823072e-b68f-46c3-dfe1-8e86eddc1ba0"
   },
   "outputs": [
    {
     "data": {
      "text/plain": [
       "<matplotlib.legend.Legend at 0x7f7c486ef890>"
      ]
     },
     "execution_count": 13,
     "metadata": {},
     "output_type": "execute_result"
    },
    {
     "data": {
      "image/png": "[encoded data removed]",
      "text/plain": [
       "<Figure size 864x288 with 2 Axes>"
      ]
     },
     "metadata": {
      "needs_background": "light"
     },
     "output_type": "display_data"
    }
   ],
   "source": [
    "fig, ax = plt.subplots(1, 2)\n",
    "fig.set_size_inches(12, 4)\n",
    "ax[0].set_title('Learning Cruve', color='r')\n",
    "ax[0].set_xlabel('Number of Epochs')\n",
    "ax[0].set_ylabel('Cross Entropy')\n",
    "ax[0].plot(history_train_loss, label = 'train')\n",
    "ax[0].plot(history_test_loss, label = 'test')\n",
    "ax[0].legend(loc=1)\n",
    "\n",
    "ax[1].set_title('Accuracy', color='r')\n",
    "ax[1].set_xlabel('Number of Epochs')\n",
    "ax[1].set_ylabel('Accuracy')\n",
    "ax[1].plot(history_train_acc, label = 'train')\n",
    "ax[1].plot(history_test_acc, label = 'test')\n",
    "ax[1].legend(loc=4)"
   ]
  },
  {
   "cell_type": "markdown",
   "metadata": {
    "id": "XpMKF5NCS0ze"
   },
   "source": [
    "# 2-2 (a)"
   ]
  },
  {
   "cell_type": "markdown",
   "metadata": {
    "id": "ibaSL1FDunfo"
   },
   "source": [
    "### Resnet-18\n",
    "\n",
    "Paper: \n",
    "\n",
    "https://arxiv.org/pdf/1512.03385.pdf\n",
    "\n",
    "參考資料:\n",
    "\n",
    "https://zhuanlan.zhihu.com/p/163577599\n",
    "\n",
    "https://zhuanlan.zhihu.com/p/157134695\n",
    "\n",
    "https://towardsdatascience.com/understanding-and-visualizing-resnets-442284831be8\n",
    "\n",
    "https://gist.github.com/nikogamulin/7774e0e3988305a78fd73e1c4364aded"
   ]
  },
  {
   "cell_type": "code",
   "execution_count": 14,
   "metadata": {
    "id": "icVbCVQQupDt"
   },
   "outputs": [],
   "source": [
    "class ResidualBlock(nn.Module):\n",
    "    def __init__(self, in_channel, out_channel, stride=1, shortcut=None):\n",
    "        super(ResidualBlock, self).__init__()\n",
    "        \n",
    "        self.left = nn.Sequential(\n",
    "             # bias=False 是因為 bias 在 BN 中已經有了，如果 stride=2 則 shape 會變成一半\n",
    "            nn.Conv2d(in_channel, out_channel, kernel_size=3, stride=stride, padding=1, bias=False),\n",
    "            nn.BatchNorm2d(out_channel),\n",
    "            nn.ReLU(),\n",
    "            nn.Conv2d(out_channel, out_channel, kernel_size=3, stride=1, padding=1, bias=False),\n",
    "            nn.BatchNorm2d(out_channel),\n",
    "        )\n",
    "        \n",
    "        # 根據情況是否做出增維或是縮小 shape\n",
    "        self.right = shortcut \n",
    "        \n",
    "    def forward(self, x):\n",
    "        out = self.left(x)\n",
    "        residual = x if self.right is None else self.right(x)\n",
    "        out = out + residual\n",
    "        out = F.relu(out)\n",
    "        return out\n",
    "    \n",
    "class ResNet18(nn.Module):\n",
    "    def __init__(self, num_classes=8):\n",
    "        super(ResNet18, self).__init__()\n",
    "        \n",
    "        self.pre_layer = nn.Sequential(\n",
    "            #為了使 shape 變一半，stride 必須是 2，在固定 kernel=7 下由公式推得 padding=3\n",
    "            nn.Conv2d(3, 64, kernel_size=7, stride=2, padding=3, bias=False), \n",
    "            nn.BatchNorm2d(64),\n",
    "            nn.ReLU(),\n",
    "            #為了使 shape 變一半，stride 必須是 2，在固定 kernel=3 下由公式推得 padding=1\n",
    "            nn.MaxPool2d(kernel_size=3, stride=2, padding=1) , \n",
    "        )\n",
    "        \n",
    "        self.layer1 = self._make_layer(64, 64, 2) \n",
    "        self.layer2 = self._make_layer(64, 128, 2, stride=2)      \n",
    "        self.layer3 = self._make_layer(128, 256, 2, stride=2)\n",
    "        self.layer4 = self._make_layer(256, 512, 2, stride=2)\n",
    "        \n",
    "        self.fc = nn.Linear(512, num_classes) # fc: fully connecterd\n",
    "        \n",
    "    def _make_layer(self, in_channel, out_channel, block_num, stride=1):\n",
    "        \n",
    "        shortcut = nn.Sequential(\n",
    "            nn.Conv2d(in_channel, out_channel, kernel_size=1, padding=1, stride=stride, bias=False),\n",
    "            nn.BatchNorm2d(out_channel),\n",
    "        )\n",
    "        \n",
    "        layers = []\n",
    "        \n",
    "        # 第一次的 ResidualBlock 可能會縮小 shape (根據 stride)，所以要獨立出來做\n",
    "        layers.append(ResidualBlock(in_channel, out_channel, stride, shortcut)) \n",
    "        \n",
    "        # 第二次以後的 ResidualBlock，不會有維度或大小不同的問題，參數跟shortcut都不用做\n",
    "        for i in range(1, block_num):\n",
    "            layers.append(ResidualBlock(out_channel, out_channel))\n",
    "            \n",
    "        return nn.Sequential(*layers)\n",
    "    \n",
    "    def forward(self, x):\n",
    "        x = self.pre_layer(x)\n",
    "        x = self.layer1(x)\n",
    "        x = self.layer2(x)\n",
    "        x = self.layer3(x)\n",
    "        x = self.layer4(x)\n",
    "        x = F.avg_pool2d(x, x.shape[3]) \n",
    "        x = x.view(x.size(0), -1) \n",
    "        out = self.fc(x)\n",
    "        return out"
   ]
  },
  {
   "cell_type": "code",
   "execution_count": 15,
   "metadata": {
    "colab": {
     "base_uri": "https://localhost:8080/"
    },
    "id": "6rQ6i26auwqR",
    "outputId": "b0714276-bf22-422b-df39-ae481591e5fa"
   },
   "outputs": [
    {
     "name": "stdout",
     "output_type": "stream",
     "text": [
      "Epoch: 1\n",
      "【Training】Loss: 1.852 | Acc: 24.473% (325/1328)\n",
      "【Testing】Loss: 2.750 | Acc: 12.500% (36/288)\n",
      "Epoch: 2\n",
      "【Training】Loss: 1.692 | Acc: 44.654% (593/1328)\n",
      "【Testing】Loss: 5.550 | Acc: 12.500% (36/288)\n",
      "Epoch: 3\n",
      "【Training】Loss: 1.061 | Acc: 60.994% (810/1328)\n",
      "【Testing】Loss: 6.006 | Acc: 14.236% (41/288)\n",
      "Epoch: 4\n",
      "【Training】Loss: 0.505 | Acc: 80.572% (1070/1328)\n",
      "【Testing】Loss: 2.831 | Acc: 23.611% (68/288)\n",
      "Epoch: 5\n",
      "【Training】Loss: 0.238 | Acc: 95.105% (1263/1328)\n",
      "【Testing】Loss: 3.681 | Acc: 26.736% (77/288)\n",
      "Epoch: 6\n",
      "【Training】Loss: 0.102 | Acc: 99.473% (1321/1328)\n",
      "【Testing】Loss: 4.086 | Acc: 23.958% (69/288)\n",
      "Epoch: 7\n",
      "【Training】Loss: 0.058 | Acc: 99.473% (1321/1328)\n",
      "【Testing】Loss: 2.020 | Acc: 30.556% (88/288)\n",
      "Epoch: 8\n",
      "【Training】Loss: 0.032 | Acc: 99.699% (1324/1328)\n",
      "【Testing】Loss: 1.123 | Acc: 32.292% (93/288)\n",
      "Epoch: 9\n",
      "【Training】Loss: 0.024 | Acc: 100.000% (1328/1328)\n",
      "【Testing】Loss: 2.561 | Acc: 33.333% (96/288)\n",
      "Epoch: 10\n",
      "【Training】Loss: 0.013 | Acc: 100.000% (1328/1328)\n",
      "【Testing】Loss: 1.166 | Acc: 34.028% (98/288)\n",
      "Epoch: 11\n",
      "【Training】Loss: 0.007 | Acc: 100.000% (1328/1328)\n",
      "【Testing】Loss: 0.785 | Acc: 38.889% (112/288)\n",
      "Epoch: 12\n",
      "【Training】Loss: 0.006 | Acc: 100.000% (1328/1328)\n",
      "【Testing】Loss: 0.883 | Acc: 38.889% (112/288)\n",
      "Epoch: 13\n",
      "【Training】Loss: 0.005 | Acc: 100.000% (1328/1328)\n",
      "【Testing】Loss: 1.025 | Acc: 39.931% (115/288)\n",
      "Epoch: 14\n",
      "【Training】Loss: 0.004 | Acc: 100.000% (1328/1328)\n",
      "【Testing】Loss: 1.186 | Acc: 39.931% (115/288)\n",
      "Epoch: 15\n",
      "【Training】Loss: 0.004 | Acc: 100.000% (1328/1328)\n",
      "【Testing】Loss: 1.165 | Acc: 39.931% (115/288)\n",
      "Epoch: 16\n",
      "【Training】Loss: 0.009 | Acc: 100.000% (1328/1328)\n",
      "【Testing】Loss: 1.167 | Acc: 39.931% (115/288)\n",
      "Epoch: 17\n",
      "【Training】Loss: 0.006 | Acc: 100.000% (1328/1328)\n",
      "【Testing】Loss: 1.086 | Acc: 39.583% (114/288)\n",
      "Epoch: 18\n",
      "【Training】Loss: 0.003 | Acc: 100.000% (1328/1328)\n",
      "【Testing】Loss: 1.289 | Acc: 40.972% (118/288)\n",
      "Epoch: 19\n",
      "【Training】Loss: 0.003 | Acc: 100.000% (1328/1328)\n",
      "【Testing】Loss: 1.109 | Acc: 40.972% (118/288)\n",
      "Epoch: 20\n",
      "【Training】Loss: 0.002 | Acc: 100.000% (1328/1328)\n",
      "【Testing】Loss: 0.930 | Acc: 41.667% (120/288)\n"
     ]
    }
   ],
   "source": [
    "resnet18_module = module(ResNet18(), train_loader, test_loader)\n",
    "history_train_loss, history_test_loss, history_train_acc, history_test_acc = resnet18_module.start()"
   ]
  },
  {
   "cell_type": "code",
   "execution_count": 16,
   "metadata": {
    "colab": {
     "base_uri": "https://localhost:8080/",
     "height": 314
    },
    "id": "gCTcnrRSuxU2",
    "outputId": "b6a1de05-ebdf-499c-a32d-5f03904be6b7"
   },
   "outputs": [
    {
     "data": {
      "text/plain": [
       "<matplotlib.legend.Legend at 0x7f7c4806a250>"
      ]
     },
     "execution_count": 16,
     "metadata": {},
     "output_type": "execute_result"
    },
    {
     "data": {
      "image/png": "[encoded data removed]",
      "text/plain": [
       "<Figure size 864x288 with 2 Axes>"
      ]
     },
     "metadata": {
      "needs_background": "light"
     },
     "output_type": "display_data"
    }
   ],
   "source": [
    "fig, ax = plt.subplots(1, 2)\n",
    "fig.set_size_inches(12, 4)\n",
    "ax[0].set_title('Learning Cruve', color='r')\n",
    "ax[0].set_xlabel('Number of Epochs')\n",
    "ax[0].set_ylabel('Cross Entropy')\n",
    "ax[0].plot(history_train_loss, label = 'train')\n",
    "ax[0].plot(history_test_loss, label = 'test')\n",
    "ax[0].legend(loc=1)\n",
    "\n",
    "ax[1].set_title('Accuracy', color='r')\n",
    "ax[1].set_xlabel('Number of Epochs')\n",
    "ax[1].set_ylabel('Accuracy')\n",
    "ax[1].plot(history_train_acc, label = 'train')\n",
    "ax[1].plot(history_test_acc, label = 'test')\n",
    "ax[1].legend(loc=4)"
   ]
  },
  {
   "cell_type": "markdown",
   "metadata": {
    "id": "MmmAWAFkTR8f"
   },
   "source": [
    "# 2-2 (b)"
   ]
  },
  {
   "cell_type": "code",
   "execution_count": 17,
   "metadata": {
    "id": "63hm5ofSvNNZ"
   },
   "outputs": [],
   "source": [
    "class Restnet18_no_mapping(nn.Module):\n",
    "    def __init__(self):\n",
    "        super(Restnet18_no_mapping, self).__init__()\n",
    "        \n",
    "        self.pre_layer = nn.Sequential( # input shape:(1, 256, 256)\n",
    "            nn.Conv2d(in_channels=3, out_channels=64, kernel_size=7, stride=2, padding=3, bias=False),\n",
    "            nn.BatchNorm2d(64),\n",
    "            nn.ReLU(),\n",
    "            nn.MaxPool2d(kernel_size=3, stride=2, padding=1),\n",
    "        )\n",
    "\n",
    "        self.layer1 = self._make_layer(64, 64, 4, stride=1)\n",
    "        self.layer2 = self._make_layer(64, 128, 3, stride=2)\n",
    "        self.layer3 = self._make_layer(128, 256, 3, stride=2)\n",
    "        self.layer4 = self._make_layer(256, 512, 3, stride=2)\n",
    "        self.fc = nn.Linear(512, 8) # fc: fully connecterd\n",
    "\n",
    "    def _make_layer(self, in_channel, out_channel, block_num, stride=1):\n",
    "        \n",
    "        layers = []\n",
    "\n",
    "        if stride!=1:\n",
    "            layers.append(\n",
    "            nn.Sequential(\n",
    "            nn.Conv2d(in_channels=in_channel, out_channels=out_channel, kernel_size=3, stride=2, padding=1, bias=False),\n",
    "            nn.BatchNorm2d(out_channel),\n",
    "            nn.ReLU())    \n",
    "            )\n",
    "\n",
    "        for i in range(block_num):\n",
    "            layers.append(\n",
    "            nn.Sequential(\n",
    "            nn.Conv2d(in_channels=out_channel, out_channels=out_channel, kernel_size=3, stride=1, padding=1, bias=False),\n",
    "            nn.BatchNorm2d(out_channel),\n",
    "            nn.ReLU())\n",
    "        )\n",
    "            \n",
    "        return nn.Sequential(*layers)\n",
    "    \n",
    "    def forward(self, x):\n",
    "        \n",
    "        x = self.pre_layer(x)\n",
    "        x = self.layer1(x)\n",
    "        x = self.layer2(x)\n",
    "        x = self.layer3(x)\n",
    "        x = self.layer4(x)\n",
    "        x = F.avg_pool2d(x, x.shape[3]) \n",
    "        x = x.view(x.size(0), -1)\n",
    "        out = self.fc(x)\n",
    "        return out"
   ]
  },
  {
   "cell_type": "code",
   "execution_count": 18,
   "metadata": {
    "colab": {
     "base_uri": "https://localhost:8080/"
    },
    "id": "HWQEIZqlGejP",
    "outputId": "1fb9a1f1-88e5-45d1-8646-7ac6c88c5c93"
   },
   "outputs": [
    {
     "name": "stdout",
     "output_type": "stream",
     "text": [
      "Epoch: 1\n",
      "【Training】Loss: 1.827 | Acc: 19.955% (265/1328)\n",
      "【Testing】Loss: 2.510 | Acc: 12.500% (36/288)\n",
      "Epoch: 2\n",
      "【Training】Loss: 1.665 | Acc: 37.500% (498/1328)\n",
      "【Testing】Loss: 4.149 | Acc: 12.500% (36/288)\n",
      "Epoch: 3\n",
      "【Training】Loss: 0.999 | Acc: 55.723% (740/1328)\n",
      "【Testing】Loss: 4.305 | Acc: 12.500% (36/288)\n",
      "Epoch: 4\n",
      "【Training】Loss: 0.946 | Acc: 73.720% (979/1328)\n",
      "【Testing】Loss: 4.677 | Acc: 20.139% (58/288)\n",
      "Epoch: 5\n",
      "【Training】Loss: 0.434 | Acc: 92.997% (1235/1328)\n",
      "【Testing】Loss: 3.357 | Acc: 21.875% (63/288)\n",
      "Epoch: 6\n",
      "【Training】Loss: 0.143 | Acc: 98.117% (1303/1328)\n",
      "【Testing】Loss: 1.773 | Acc: 32.292% (93/288)\n",
      "Epoch: 7\n",
      "【Training】Loss: 0.086 | Acc: 99.548% (1322/1328)\n",
      "【Testing】Loss: 1.287 | Acc: 29.861% (86/288)\n",
      "Epoch: 8\n",
      "【Training】Loss: 0.053 | Acc: 100.000% (1328/1328)\n",
      "【Testing】Loss: 1.943 | Acc: 27.778% (80/288)\n",
      "Epoch: 9\n",
      "【Training】Loss: 0.047 | Acc: 100.000% (1328/1328)\n",
      "【Testing】Loss: 1.265 | Acc: 29.167% (84/288)\n",
      "Epoch: 10\n",
      "【Training】Loss: 0.026 | Acc: 100.000% (1328/1328)\n",
      "【Testing】Loss: 1.365 | Acc: 32.986% (95/288)\n",
      "Epoch: 11\n",
      "【Training】Loss: 0.018 | Acc: 100.000% (1328/1328)\n",
      "【Testing】Loss: 1.427 | Acc: 34.028% (98/288)\n",
      "Epoch: 12\n",
      "【Training】Loss: 0.018 | Acc: 100.000% (1328/1328)\n",
      "【Testing】Loss: 1.670 | Acc: 30.208% (87/288)\n",
      "Epoch: 13\n",
      "【Training】Loss: 0.022 | Acc: 100.000% (1328/1328)\n",
      "【Testing】Loss: 1.473 | Acc: 34.722% (100/288)\n",
      "Epoch: 14\n",
      "【Training】Loss: 0.018 | Acc: 100.000% (1328/1328)\n",
      "【Testing】Loss: 1.889 | Acc: 34.028% (98/288)\n",
      "Epoch: 15\n",
      "【Training】Loss: 0.024 | Acc: 100.000% (1328/1328)\n",
      "【Testing】Loss: 1.388 | Acc: 34.722% (100/288)\n",
      "Epoch: 16\n",
      "【Training】Loss: 0.011 | Acc: 100.000% (1328/1328)\n",
      "【Testing】Loss: 1.477 | Acc: 34.028% (98/288)\n",
      "Epoch: 17\n",
      "【Training】Loss: 0.010 | Acc: 100.000% (1328/1328)\n",
      "【Testing】Loss: 1.635 | Acc: 34.722% (100/288)\n",
      "Epoch: 18\n",
      "【Training】Loss: 0.014 | Acc: 100.000% (1328/1328)\n",
      "【Testing】Loss: 1.462 | Acc: 32.986% (95/288)\n",
      "Epoch: 19\n",
      "【Training】Loss: 0.008 | Acc: 100.000% (1328/1328)\n",
      "【Testing】Loss: 1.458 | Acc: 32.639% (94/288)\n",
      "Epoch: 20\n",
      "【Training】Loss: 0.008 | Acc: 100.000% (1328/1328)\n",
      "【Testing】Loss: 1.249 | Acc: 34.375% (99/288)\n"
     ]
    }
   ],
   "source": [
    "Restnet18_no_mapping_module = module(Restnet18_no_mapping(), train_loader, test_loader)\n",
    "history_train_loss_no_mapping, history_test_loss_no_mapping, history_train_acc_no_mapping, history_test_acc_no_mapping = Restnet18_no_mapping_module.start()"
   ]
  },
  {
   "cell_type": "code",
   "execution_count": 19,
   "metadata": {
    "colab": {
     "base_uri": "https://localhost:8080/",
     "height": 314
    },
    "id": "cc4RI0rtI33f",
    "outputId": "1fbc5d9b-abaa-4497-8b7e-429882538393"
   },
   "outputs": [
    {
     "data": {
      "text/plain": [
       "<matplotlib.legend.Legend at 0x7f7c47efac50>"
      ]
     },
     "execution_count": 19,
     "metadata": {},
     "output_type": "execute_result"
    },
    {
     "data": {
      "image/png": "[encoded data removed]",
      "text/plain": [
       "<Figure size 864x288 with 2 Axes>"
      ]
     },
     "metadata": {
      "needs_background": "light"
     },
     "output_type": "display_data"
    }
   ],
   "source": [
    "fig, ax = plt.subplots(1, 2)\n",
    "fig.set_size_inches(12, 4)\n",
    "ax[0].set_title('Learning Cruve', color='r')\n",
    "ax[0].set_xlabel('Number of Epochs')\n",
    "ax[0].set_ylabel('Cross Entropy')\n",
    "ax[0].plot(history_train_loss, label = 'train')\n",
    "ax[0].plot(history_test_loss, label = 'test')\n",
    "ax[0].plot(history_train_loss_no_mapping, label = 'train_no_mapping')\n",
    "ax[0].plot(history_test_loss_no_mapping, label = 'test_no_mapping')\n",
    "ax[0].legend(loc=1)\n",
    "\n",
    "\n",
    "ax[1].set_title('Accuracy', color='r')\n",
    "ax[1].set_xlabel('Number of Epochs')\n",
    "ax[1].set_ylabel('Accuracy')\n",
    "ax[1].plot(history_train_acc, label = 'train')\n",
    "ax[1].plot(history_test_acc, label = 'test')\n",
    "ax[1].plot(history_train_acc_no_mapping, label = 'train_no_mapping')\n",
    "ax[1].plot(history_test_acc_no_mapping, label = 'test_no_mapping')\n",
    "ax[1].legend(loc=7)"
   ]
  },
  {
   "cell_type": "markdown",
   "metadata": {},
   "source": [
    "### Resnet-18 在有 identity mapping 的情況下，training 的 loss、accuracy 在收斂速度的表現上差異不大，但在  testing 的表現上，Resnet-18 在有 identity mapping 下，testing accuray 為 41.667%，高於沒有做 identity mapping 的 34.375%。"
   ]
  }
 ],
 "metadata": {
  "accelerator": "GPU",
  "colab": {
   "collapsed_sections": [],
   "name": "HW1_2.ipynb",
   "provenance": []
  },
  "kernelspec": {
   "display_name": "Python 3",
   "language": "python",
   "name": "python3"
  },
  "language_info": {
   "codemirror_mode": {
    "name": "ipython",
    "version": 3
   },
   "file_extension": ".py",
   "mimetype": "text/x-python",
   "name": "python",
   "nbconvert_exporter": "python",
   "pygments_lexer": "ipython3",
   "version": "3.8.3"
  }
 },
 "nbformat": 4,
 "nbformat_minor": 1
}
