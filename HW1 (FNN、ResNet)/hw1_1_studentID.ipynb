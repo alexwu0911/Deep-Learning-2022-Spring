{
  "cells": [
    {
      "cell_type": "code",
      "execution_count": 3,
      "metadata": {
        "id": "XMrfR0c25Cz2"
      },
      "outputs": [
        {
          "name": "stdout",
          "output_type": "stream",
          "text": [
            "shape of data:\n",
            "(30000, 784)\n",
            "(30000,)\n",
            "(5000, 784)\n",
            "(5000,)\n",
            "\n",
            "shape of weights:\n",
            "(784, 2048)\n",
            "(2048, 512)\n",
            "(512, 5)\n",
            "\n",
            "shape of biases:\n",
            "(2048,)\n",
            "(512,)\n",
            "(5,)\n"
          ]
        }
      ],
      "source": [
        "# Example code for reading the data and the initial weights and biases.\n",
        "# Note: This is just an example of how to read these files, you can modify the code in your own implementation.\n",
        "\n",
        "import numpy as np\n",
        "\n",
        "train_x, train_y = np.load('fashion_mnist/train_x.npy'), np.load('fashion_mnist/train_y.npy')\n",
        "test_x, test_y = np.load('fashion_mnist/test_x.npy'), np.load('fashion_mnist/test_y.npy')\n",
        "\n",
        "print('shape of data:')\n",
        "print(train_x.shape)\n",
        "print(train_y.shape)\n",
        "print(test_x.shape)\n",
        "print(test_y.shape)\n",
        "print()\n",
        "\n",
        "checkpoint = np.load('weights.npy', allow_pickle=True).item()\n",
        "init_weights = checkpoint['w']\n",
        "init_biases = checkpoint['b']\n",
        "\n",
        "print('shape of weights:')\n",
        "for w in init_weights:\n",
        "    print(w.shape)\n",
        "\n",
        "print()\n",
        "\n",
        "print('shape of biases:')\n",
        "for b in init_biases:\n",
        "    print(b.shape)"
      ]
    }
  ],
  "metadata": {
    "colab": {
      "collapsed_sections": [],
      "name": "dl_hw1_1",
      "provenance": []
    },
    "kernelspec": {
      "display_name": "Python 3",
      "language": "python",
      "name": "python3"
    },
    "language_info": {
      "codemirror_mode": {
        "name": "ipython",
        "version": 3
      },
      "file_extension": ".py",
      "mimetype": "text/x-python",
      "name": "python",
      "nbconvert_exporter": "python",
      "pygments_lexer": "ipython3",
      "version": "3.8.10"
    }
  },
  "nbformat": 4,
  "nbformat_minor": 0
}
